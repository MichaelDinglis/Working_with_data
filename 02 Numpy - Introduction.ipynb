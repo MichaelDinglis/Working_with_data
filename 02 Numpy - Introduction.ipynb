{
 "cells": [
  {
   "cell_type": "markdown",
   "metadata": {},
   "source": [
    "# Numpy Matrix"
   ]
  },
  {
   "cell_type": "markdown",
   "metadata": {},
   "source": [
    "* Before starting out, first import numpy (preferably as np for ease of use later)"
   ]
  },
  {
   "cell_type": "code",
   "execution_count": 1,
   "metadata": {},
   "outputs": [],
   "source": [
    "import numpy as  np"
   ]
  },
  {
   "cell_type": "markdown",
   "metadata": {},
   "source": [
    "* In order to understand how numpy arrays work, you first have to understand how matrix works in math. Let's start with a <b> 2*2 matrix</b>\n",
    "\n",
    "* As its name suggests, it needs to have 2 rows and 2 columns:\n",
    "\n",
    "* For example, let's go ahead and create a numpy array using np.array()"
   ]
  },
  {
   "cell_type": "raw",
   "metadata": {},
   "source": [
    "|a b|\n",
    "|c d|      This is how it looks"
   ]
  },
  {
   "cell_type": "code",
   "execution_count": 2,
   "metadata": {},
   "outputs": [],
   "source": [
    "two_by_two=np.array([[\"a\",\"b\"],\n",
    "                    [\"c\",\"d\"]])"
   ]
  },
  {
   "cell_type": "code",
   "execution_count": 3,
   "metadata": {
    "scrolled": true
   },
   "outputs": [
    {
     "data": {
      "text/plain": [
       "array([['a', 'b'],\n",
       "       ['c', 'd']], dtype='<U1')"
      ]
     },
     "execution_count": 3,
     "metadata": {},
     "output_type": "execute_result"
    }
   ],
   "source": [
    "two_by_two"
   ]
  },
  {
   "cell_type": "markdown",
   "metadata": {},
   "source": [
    "* To find the determinant of a 2\\*2 array, you have to do this d= (a\\*d)-(b\\*c)\n",
    "\n",
    "* Let's see how a 3\\*3 array works:"
   ]
  },
  {
   "cell_type": "markdown",
   "metadata": {},
   "source": [
    " |a b c|  \n",
    " |d e f|  \n",
    " |g h i| "
   ]
  },
  {
   "cell_type": "markdown",
   "metadata": {},
   "source": [
    "* You can find the determinant of a 3*3 array with 2 methods.\n",
    "* Let's see the first one:"
   ]
  },
  {
   "cell_type": "raw",
   "metadata": {},
   "source": [
    " + + +\n",
    "|a b c|a b = +(a*e*i)+(b*f*g)+(c*d*h)-(g*e*c)-(h*f*a)-(h*d*b)\n",
    "|d e f|d z\n",
    "|g h i|g h\n",
    " - - -\n",
    " \n",
    " It looks complicated and hard, but its just the multiplication of 3 of the numbers diagonally. "
   ]
  },
  {
   "cell_type": "markdown",
   "metadata": {},
   "source": [
    "* We start from the top left and go diagonally down, then the the second on the top, and the third. When starting from the top, we use + in front.\n",
    "* We have to start from the top with the + sign and then from the bottom with the 0 sign in front (make sure to put the + and - symbols right.)\n",
    "    * As you can see, i wrote the first two lines after the || finishen for ease. \n",
    "    * Please keep in mind that **+\\*+ = +** , **- \\*-=-** , **+ \\* - = -**\n",
    "* The symbols in the ( ) remain and at the end you change them accordingly"
   ]
  },
  {
   "cell_type": "markdown",
   "metadata": {},
   "source": [
    "* **The second way, you can use for any squared matrix:**"
   ]
  },
  {
   "cell_type": "raw",
   "metadata": {},
   "source": [
    " + - +\n",
    "|a b c| = +(a*|e f|)-(b*|d f|)+(c*|d e|)\n",
    "|d e f|       |h i|     |g i|     |g h|\n",
    "|g h i|\n",
    "\n",
    "Again, it looks complicated but it's not. Let me explain explain!"
   ]
  },
  {
   "cell_type": "markdown",
   "metadata": {},
   "source": [
    "* You can choose whichever line you like, just remember the symbols should be **+ - +**\n",
    "* in order to find the determinant using this way, you stsart from the first letter/number of the line and you 'cancel out' the line and row that it is in.\n",
    "* Then, you take the numbers/letters that are left (that you didn't cancel out) and create a smaller, 2\\*2 matrix and solve it as we learnet at first.\n",
    "* If the matrix is 4\\*4, 5\\*5, you just pick a line, and start simplifying until you get a 2*2 matrix. The symbols (not of the numbers, but of weather you are going to + or - between each one) are  + - + - + - ........."
   ]
  },
  {
   "cell_type": "markdown",
   "metadata": {},
   "source": [
    "I hope it was clear. Don't worry if you didn't fully understand it. You can watch these videos to understand it better:  \n",
    "[Method 1](https://www.khanacademy.org/math/algebra-home/alg-matrices/alg-determinants-and-inverses-of-large-matrices/v/finding-the-determinant-of-a-3x3-matrix-method-2)  \n",
    "[Method 2](https://www.khanacademy.org/math/algebra-home/alg-matrices/alg-determinants-and-inverses-of-large-matrices/v/finding-the-determinant-of-a-3x3-matrix-method-1) "
   ]
  },
  {
   "cell_type": "markdown",
   "metadata": {},
   "source": [
    "* Let's start by talking about data types in numpy"
   ]
  },
  {
   "cell_type": "markdown",
   "metadata": {},
   "source": [
    "* please note that integer:number with no decimal point\n",
    "    * float:number witih decimal points\n",
    "    * string: with characters\n",
    "    * python object: dictionaries [Click Here to learn more](https://www.w3schools.com/python/python_dictionaries.asp) about dictionaries\n",
    "  \n",
    "<p>don't worry if you don't understand how the array creation works, it will be explained later. Just make sure to understand the different types of data and how to get the type of an array.</p>\n",
    "\n",
    "* Things to know for numpy data types:\n",
    "    * The actual data type\n",
    "    * Size of tha data (eg. of the integer - 32-bit, 64-bit etc.)\n",
    "    * Byte order - little-endian, big-endian \\*\n",
    "    * If the data is a nested array and its data type\n",
    "    \n",
    "    \n",
    "        * Little-endian: The piece of data with the smallest value is placed at the byte with the lowest address. The rest of the data is placed in order in the next 3 bytes\n",
    "        * big-endian: The piece of data with the biggest value is placed at the byte with the lowest address. The rest the the data is placed in order in the next 3 bytes\n",
    "        \n",
    "We use .dtype to get the type"
   ]
  },
  {
   "cell_type": "code",
   "execution_count": 4,
   "metadata": {},
   "outputs": [
    {
     "data": {
      "text/plain": [
       "dtype('O')"
      ]
     },
     "execution_count": 4,
     "metadata": {},
     "output_type": "execute_result"
    }
   ],
   "source": [
    "arr2=np.array({1:\"o means python object\"})\n",
    "arr2.dtype"
   ]
  },
  {
   "cell_type": "code",
   "execution_count": 5,
   "metadata": {},
   "outputs": [
    {
     "data": {
      "text/plain": [
       "dtype('int64')"
      ]
     },
     "execution_count": 5,
     "metadata": {},
     "output_type": "execute_result"
    }
   ],
   "source": [
    "arr2=np.array([[1,2,3,4],\n",
    "              [1,2,3,4]])\n",
    "arr2.dtype"
   ]
  },
  {
   "cell_type": "markdown",
   "metadata": {},
   "source": [
    "* In order create a numpy array, create a variable and use np.array() and for each row create an array separating it with comas (,)"
   ]
  },
  {
   "cell_type": "code",
   "execution_count": 6,
   "metadata": {},
   "outputs": [],
   "source": [
    "arr1=np.array([[3,4,6,8],\n",
    "              [10,24,54,55],\n",
    "              [21,23,46,13],\n",
    "              [31,23,54,21]])"
   ]
  },
  {
   "cell_type": "markdown",
   "metadata": {},
   "source": [
    "* This is how you get the determinant of a squared array (matrix)."
   ]
  },
  {
   "cell_type": "code",
   "execution_count": 7,
   "metadata": {},
   "outputs": [
    {
     "data": {
      "text/plain": [
       "39691.99999999997"
      ]
     },
     "execution_count": 7,
     "metadata": {},
     "output_type": "execute_result"
    }
   ],
   "source": [
    "np.linalg.det(arr1)"
   ]
  },
  {
   "cell_type": "markdown",
   "metadata": {},
   "source": [
    "* You can find the  sine (sin),cosine (cos), and tangent(tan) of all the values:"
   ]
  },
  {
   "cell_type": "code",
   "execution_count": 8,
   "metadata": {},
   "outputs": [
    {
     "data": {
      "text/plain": [
       "array([[ 0.14112001, -0.7568025 , -0.2794155 ,  0.98935825],\n",
       "       [-0.54402111, -0.90557836, -0.55878905, -0.99975517],\n",
       "       [ 0.83665564, -0.8462204 ,  0.90178835,  0.42016704],\n",
       "       [-0.40403765, -0.8462204 , -0.55878905,  0.83665564]])"
      ]
     },
     "execution_count": 8,
     "metadata": {},
     "output_type": "execute_result"
    }
   ],
   "source": [
    "np.sin(arr1)"
   ]
  },
  {
   "cell_type": "code",
   "execution_count": 9,
   "metadata": {},
   "outputs": [
    {
     "data": {
      "text/plain": [
       "array([[-0.9899925 , -0.65364362,  0.96017029, -0.14550003],\n",
       "       [-0.83907153,  0.42417901, -0.82930983,  0.02212676],\n",
       "       [-0.54772926, -0.53283302, -0.43217794,  0.90744678],\n",
       "       [ 0.91474236, -0.53283302, -0.82930983, -0.54772926]])"
      ]
     },
     "execution_count": 9,
     "metadata": {},
     "output_type": "execute_result"
    }
   ],
   "source": [
    "np.cos(arr1)"
   ]
  },
  {
   "cell_type": "code",
   "execution_count": 10,
   "metadata": {},
   "outputs": [
    {
     "data": {
      "text/plain": [
       "array([[ -0.14254654,   1.15782128,  -0.29100619,  -6.79971146],\n",
       "       [  0.64836083,  -2.1348967 ,   0.6738001 , -45.18308791],\n",
       "       [ -1.52749853,   1.58815308,  -2.08661353,   0.46302113],\n",
       "       [ -0.44169557,   1.58815308,   0.6738001 ,  -1.52749853]])"
      ]
     },
     "execution_count": 10,
     "metadata": {},
     "output_type": "execute_result"
    }
   ],
   "source": [
    "np.tan(arr1)"
   ]
  },
  {
   "cell_type": "markdown",
   "metadata": {},
   "source": [
    "* create an array with zeros or ones - .zeros or .ones and double () and then the number of the columns and rows. If we want a 1-column array, we just add (columns)"
   ]
  },
  {
   "cell_type": "code",
   "execution_count": 11,
   "metadata": {},
   "outputs": [
    {
     "data": {
      "text/plain": [
       "array([[0., 0., 0., 0., 0.],\n",
       "       [0., 0., 0., 0., 0.],\n",
       "       [0., 0., 0., 0., 0.],\n",
       "       [0., 0., 0., 0., 0.],\n",
       "       [0., 0., 0., 0., 0.]])"
      ]
     },
     "execution_count": 11,
     "metadata": {},
     "output_type": "execute_result"
    }
   ],
   "source": [
    "zeros=np.zeros((5,5))\n",
    "zeros"
   ]
  },
  {
   "cell_type": "code",
   "execution_count": 12,
   "metadata": {},
   "outputs": [
    {
     "data": {
      "text/plain": [
       "array([[1., 1., 1.],\n",
       "       [1., 1., 1.],\n",
       "       [1., 1., 1.]])"
      ]
     },
     "execution_count": 12,
     "metadata": {},
     "output_type": "execute_result"
    }
   ],
   "source": [
    "ones=np.ones((3,3))\n",
    "ones"
   ]
  },
  {
   "cell_type": "code",
   "execution_count": 13,
   "metadata": {},
   "outputs": [
    {
     "data": {
      "text/plain": [
       "array([0., 0., 0., 0., 0.])"
      ]
     },
     "execution_count": 13,
     "metadata": {},
     "output_type": "execute_result"
    }
   ],
   "source": [
    "zeros1=np.zeros(5)\n",
    "zeros1"
   ]
  },
  {
   "cell_type": "markdown",
   "metadata": {},
   "source": [
    "* if you would like to create a 1-row array and reshappe it latter, you can use .reshape()"
   ]
  },
  {
   "cell_type": "code",
   "execution_count": 14,
   "metadata": {},
   "outputs": [],
   "source": [
    "resh=np.array([1.3425234,2.342,3.24324323653226,4.23535,5.234523,6.34523,7.353,8.354325335\n",
    "               ,9.32,10.345,11.1245345142,12.455547,13.35345,14.3453,15.3534433534])\n",
    "resh=resh.reshape(5,3)"
   ]
  },
  {
   "cell_type": "code",
   "execution_count": 15,
   "metadata": {},
   "outputs": [
    {
     "data": {
      "text/plain": [
       "array([[ 1.3425234 ,  2.342     ,  3.24324324],\n",
       "       [ 4.23535   ,  5.234523  ,  6.34523   ],\n",
       "       [ 7.353     ,  8.35432534,  9.32      ],\n",
       "       [10.345     , 11.12453451, 12.455547  ],\n",
       "       [13.35345   , 14.3453    , 15.35344335]])"
      ]
     },
     "execution_count": 15,
     "metadata": {},
     "output_type": "execute_result"
    }
   ],
   "source": [
    "resh"
   ]
  },
  {
   "cell_type": "code",
   "execution_count": 16,
   "metadata": {},
   "outputs": [
    {
     "data": {
      "text/plain": [
       "array([[ 1.3425234 ,  2.342     ,  3.24324324,  4.23535   ,  5.234523  ],\n",
       "       [ 6.34523   ,  7.353     ,  8.35432534,  9.32      , 10.345     ],\n",
       "       [11.12453451, 12.455547  , 13.35345   , 14.3453    , 15.35344335]])"
      ]
     },
     "execution_count": 16,
     "metadata": {},
     "output_type": "execute_result"
    }
   ],
   "source": [
    "resh=resh.reshape(3,5)\n",
    "resh"
   ]
  },
  {
   "cell_type": "markdown",
   "metadata": {},
   "source": [
    "* .reshape(rows,columns)\n",
    "* in order for it to run wihout errors you have to write integers in the () and when you multiply the 2 numbers that you wrote, the result has to be equal to the number of items in the main array"
   ]
  },
  {
   "cell_type": "markdown",
   "metadata": {},
   "source": [
    "* You can use .around() to change the decimal points in an array:\n",
    "* out=... is optional\n",
    "* np.around(array,decimals,out)"
   ]
  },
  {
   "cell_type": "code",
   "execution_count": 17,
   "metadata": {},
   "outputs": [
    {
     "data": {
      "text/plain": [
       "array([[ 1.3425,  2.342 ,  3.2432,  4.2354,  5.2345],\n",
       "       [ 6.3452,  7.353 ,  8.3543,  9.32  , 10.345 ],\n",
       "       [11.1245, 12.4555, 13.3534, 14.3453, 15.3534]])"
      ]
     },
     "execution_count": 17,
     "metadata": {},
     "output_type": "execute_result"
    }
   ],
   "source": [
    "np2=np.around(resh,4,out= None)\n",
    "np2"
   ]
  },
  {
   "cell_type": "code",
   "execution_count": null,
   "metadata": {},
   "outputs": [],
   "source": []
  },
  {
   "cell_type": "code",
   "execution_count": null,
   "metadata": {},
   "outputs": [],
   "source": []
  }
 ],
 "metadata": {
  "kernelspec": {
   "display_name": "Python 3",
   "language": "python",
   "name": "python3"
  },
  "language_info": {
   "codemirror_mode": {
    "name": "ipython",
    "version": 3
   },
   "file_extension": ".py",
   "mimetype": "text/x-python",
   "name": "python",
   "nbconvert_exporter": "python",
   "pygments_lexer": "ipython3",
   "version": "3.8.6"
  }
 },
 "nbformat": 4,
 "nbformat_minor": 4
}
