{
 "cells": [
  {
   "cell_type": "markdown",
   "metadata": {},
   "source": [
    "# Numpy Matrix"
   ]
  },
  {
   "cell_type": "markdown",
   "metadata": {},
   "source": [
    "* Before starting out, first import numpy (preferably as np for ease of use later)"
   ]
  },
  {
   "cell_type": "code",
   "execution_count": 1,
   "metadata": {},
   "outputs": [],
   "source": [
    "import numpy as  np"
   ]
  },
  {
   "cell_type": "markdown",
   "metadata": {},
   "source": [
    "* In order to understand how numpy arrays work, you first have to understand how matrix works in math. Let's start with a <b> 2*2 matrix</b>\n",
    "\n",
    "* As its name suggests, it needs to have 2 rows and 2 columns:\n",
    "\n",
    "* For example, let's go ahead and create a numpy array using np.array()"
   ]
  },
  {
   "cell_type": "raw",
   "metadata": {},
   "source": [
    "|a b|\n",
    "|c d|      This is how it looks0"
   ]
  },
  {
   "cell_type": "code",
   "execution_count": 8,
   "metadata": {},
   "outputs": [],
   "source": [
    "two_by_two=np.array([[\"a\",\"b\"],\n",
    "                    [\"c\",\"d\"]])"
   ]
  },
  {
   "cell_type": "code",
   "execution_count": 9,
   "metadata": {
    "scrolled": true
   },
   "outputs": [
    {
     "data": {
      "text/plain": [
       "array([['a', 'b'],\n",
       "       ['c', 'd']], dtype='<U1')"
      ]
     },
     "execution_count": 9,
     "metadata": {},
     "output_type": "execute_result"
    }
   ],
   "source": [
    "two_by_two"
   ]
  },
  {
   "cell_type": "markdown",
   "metadata": {},
   "source": [
    "* To find the determinant of a 2\\*2 array, you have to do this d= (a\\*d)-(b\\*c)\n",
    "\n",
    "* Let's see how a 3\\*3 array works:"
   ]
  },
  {
   "cell_type": "markdown",
   "metadata": {},
   "source": [
    " |a b c|  \n",
    " |d e f|  \n",
    " |g h i| "
   ]
  },
  {
   "cell_type": "markdown",
   "metadata": {},
   "source": [
    "* You can find the determinant of a 3*3 array with 2 methods.\n",
    "* Let's see the first one:"
   ]
  },
  {
   "cell_type": "raw",
   "metadata": {},
   "source": [
    " + + +\n",
    "|a b c|a b = +(a*e*i)+(b*f*g)+(c*d*h)-(g*e*c)-(h*f*a)-(h*d*b)\n",
    "|d e f|d z\n",
    "|g h i|g h\n",
    " - - -\n",
    " \n",
    " It looks complicated and hard,but its just the multiplication of 3 of the numbers diagonally. "
   ]
  },
  {
   "cell_type": "markdown",
   "metadata": {},
   "source": [
    "* We start from the top left and go diagonally down, then the the second on the top, and the third. When starting from the top, we use + in front.\n",
    "* We have to start from the top with the + sign and then from the bottom with the 0 sign in front (make sure to put the + and - symbols right.)\n",
    "    * As you can see, i wrote the first two lines after the || finishen for ease. \n",
    "    * Please keep in mind that **+\\*+ = +** , **- \\*-=-** , **+ \\* - = -**\n",
    "* The symbols in the ( ) remain and at the end you change them accordingly"
   ]
  },
  {
   "cell_type": "markdown",
   "metadata": {},
   "source": [
    "* **The second way, you can use for any squared matrix:**"
   ]
  },
  {
   "cell_type": "raw",
   "metadata": {},
   "source": [
    " + - +\n",
    "|a b c| = +(a*|e f|)-(b*|d f|)+(c*|d e|)\n",
    "|d e f|       |h i|     |g i|     |g h|\n",
    "|g h i|\n",
    "\n",
    "Again, it looks complicated but it's not. Let me explain explain!"
   ]
  },
  {
   "cell_type": "markdown",
   "metadata": {},
   "source": [
    "* You can choose whichever line you like, just remember the symbols should be **+ - +**\n",
    "* in order to find the determinant using this way, you stsart from the first letter/number of the line and you 'cancel out' the line and row that it is in.\n",
    "* Then, you take the numbers/letters that are left (that you didn't cancel out) and create a smaller, 2\\*2 matrix and solve it as we learnet at first.\n",
    "* If the matrix is 4\\*4, 5\\*5, you just pick a line, and start simplifying until you get a 2*2 matrix. The symbols (not of the numbers, but of weather you are going to + or - between each one) are  + - + - + - ........."
   ]
  },
  {
   "cell_type": "markdown",
   "metadata": {},
   "source": [
    "I hope it was clear. Don't worry if you didn't fully understand it. You can watch these videos to understand it better:\n",
    "https://www.khanacademy.org/math/algebra-home/alg-matrices/alg-determinants-and-inverses-of-large-matrices/v/finding-the-determinant-of-a-3x3-matrix-method-2  \n",
    "https://www.khanacademy.org/math/algebra-home/alg-matrices/alg-determinants-and-inverses-of-large-matrices/v/finding-the-determinant-of-a-3x3-matrix-method-1 "
   ]
  },
  {
   "cell_type": "markdown",
   "metadata": {},
   "source": [
    "* In order create a numpy array, create a variable and use np.array() and for each row create an array separating it with comas (,)"
   ]
  },
  {
   "cell_type": "code",
   "execution_count": 26,
   "metadata": {},
   "outputs": [],
   "source": [
    "arr1=np.array([[3,4,6,8],\n",
    "              [10,24,54,55],\n",
    "              [21,23,46,13],\n",
    "              [31,23,54,21]])"
   ]
  },
  {
   "cell_type": "markdown",
   "metadata": {},
   "source": [
    "* This is how you get the determinant of a squared array (matrix)."
   ]
  },
  {
   "cell_type": "code",
   "execution_count": 27,
   "metadata": {},
   "outputs": [
    {
     "data": {
      "text/plain": [
       "39691.99999999997"
      ]
     },
     "execution_count": 27,
     "metadata": {},
     "output_type": "execute_result"
    }
   ],
   "source": [
    "np.linalg.det(arr1)"
   ]
  },
  {
   "cell_type": "markdown",
   "metadata": {},
   "source": [
    "* "
   ]
  }
 ],
 "metadata": {
  "kernelspec": {
   "display_name": "Python 3",
   "language": "python",
   "name": "python3"
  },
  "language_info": {
   "codemirror_mode": {
    "name": "ipython",
    "version": 3
   },
   "file_extension": ".py",
   "mimetype": "text/x-python",
   "name": "python",
   "nbconvert_exporter": "python",
   "pygments_lexer": "ipython3",
   "version": "3.8.6"
  }
 },
 "nbformat": 4,
 "nbformat_minor": 4
}
