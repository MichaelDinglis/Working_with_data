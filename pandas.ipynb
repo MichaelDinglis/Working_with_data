{
 "cells": [
  {
   "cell_type": "markdown",
   "metadata": {},
   "source": [
    "## Importing padnas and numpy\n",
    "* Pandas are used for manipulating and analysing data"
   ]
  },
  {
   "cell_type": "code",
   "execution_count": 1,
   "metadata": {},
   "outputs": [],
   "source": [
    "import pandas as pd\n",
    "import numpy as np"
   ]
  },
  {
   "cell_type": "markdown",
   "metadata": {},
   "source": [
    "# Creating a Series using pandas\n",
    "* Similar to python arrays or numpy arrays, but their index can be changed, so you can refer to them using different, custom indexes.\n",
    "\n",
    "* pd in pd.Series calls the pandas and the .Series is a function of the library. That's why we add () before the [].\n",
    "\n",
    "* The word Series is needded to be written with capital S :)"
   ]
  },
  {
   "cell_type": "code",
   "execution_count": 2,
   "metadata": {},
   "outputs": [],
   "source": [
    "s1=pd.Series([2.4,4.6,7.8])"
   ]
  },
  {
   "cell_type": "markdown",
   "metadata": {},
   "source": [
    "* Naming out Series - the series name . name"
   ]
  },
  {
   "cell_type": "code",
   "execution_count": 3,
   "metadata": {},
   "outputs": [],
   "source": [
    "s1.name=\"Products\""
   ]
  },
  {
   "cell_type": "markdown",
   "metadata": {},
   "source": [
    "* Changing the indexes of the elements"
   ]
  },
  {
   "cell_type": "code",
   "execution_count": 4,
   "metadata": {},
   "outputs": [],
   "source": [
    "s1.index=[\"volkswagen\",\"volvo\",\"hyundai\"]"
   ]
  },
  {
   "cell_type": "markdown",
   "metadata": {},
   "source": [
    "* How does s1 look by now? Let's check"
   ]
  },
  {
   "cell_type": "code",
   "execution_count": 5,
   "metadata": {},
   "outputs": [
    {
     "data": {
      "text/plain": [
       "volkswagen    2.4\n",
       "volvo         4.6\n",
       "hyundai       7.8\n",
       "Name: Products, dtype: float64"
      ]
     },
     "execution_count": 5,
     "metadata": {},
     "output_type": "execute_result"
    }
   ],
   "source": [
    "s1"
   ]
  },
  {
   "cell_type": "markdown",
   "metadata": {},
   "source": [
    "* Now, the car brands are the indexes\n",
    "* We can refer to them using the brands:"
   ]
  },
  {
   "cell_type": "code",
   "execution_count": 6,
   "metadata": {},
   "outputs": [
    {
     "data": {
      "text/plain": [
       "7.8"
      ]
     },
     "execution_count": 6,
     "metadata": {},
     "output_type": "execute_result"
    }
   ],
   "source": [
    "s1[\"hyundai\"]"
   ]
  },
  {
   "cell_type": "markdown",
   "metadata": {},
   "source": [
    "* Or even call up 2 of them using double brackets"
   ]
  },
  {
   "cell_type": "code",
   "execution_count": 7,
   "metadata": {},
   "outputs": [
    {
     "data": {
      "text/plain": [
       "volvo      4.6\n",
       "hyundai    7.8\n",
       "Name: Products, dtype: float64"
      ]
     },
     "execution_count": 7,
     "metadata": {},
     "output_type": "execute_result"
    }
   ],
   "source": [
    "s1[[\"volvo\",\"hyundai\"]]"
   ]
  },
  {
   "cell_type": "markdown",
   "metadata": {},
   "source": [
    "* Let's try doing everything within the series creation:\n",
    "  * We first create the series\n",
    "  * Then, we close the brackets, keeping the ()open and we name our Series\n",
    "  * After that, we can give change the indexes using a coma\n",
    "  * To finish, we close the ()"
   ]
  },
  {
   "cell_type": "code",
   "execution_count": 8,
   "metadata": {},
   "outputs": [],
   "source": [
    "s2=pd.Series([\"safest\",\n",
    "              \"safer\",\n",
    "              \"safe\"],\n",
    "            name=\"Car Brand Safety Ratings\",\n",
    "            index=[\"volvo\",\"mercedes-benz\",\"hyundai\"])"
   ]
  },
  {
   "cell_type": "markdown",
   "metadata": {},
   "source": [
    "* We can also change the indexes when passing the values in the Series.\n",
    "  * We add {} instead of [] as they create a so-called dictionary and the can have name and value - which name is going to be the index."
   ]
  },
  {
   "cell_type": "code",
   "execution_count": 9,
   "metadata": {},
   "outputs": [],
   "source": [
    "s3=pd.Series({\"safest\":\"volvo\",\n",
    "             \"safer\":\"mercedes-benz\",\n",
    "              \"safe\":\"hyundai\"},\n",
    "              name=\"Car Brand Safety Ratings\")"
   ]
  },
  {
   "cell_type": "code",
   "execution_count": 10,
   "metadata": {},
   "outputs": [
    {
     "data": {
      "text/plain": [
       "safest            volvo\n",
       "safer     mercedes-benz\n",
       "safe            hyundai\n",
       "Name: Car Brand Safety Ratings, dtype: object"
      ]
     },
     "execution_count": 10,
     "metadata": {},
     "output_type": "execute_result"
    }
   ],
   "source": [
    "s3"
   ]
  },
  {
   "cell_type": "markdown",
   "metadata": {},
   "source": [
    "* As you can see, the series came out the same"
   ]
  },
  {
   "cell_type": "markdown",
   "metadata": {},
   "source": [
    "* If you want to refer to the values using their index number, you can use the iloc:"
   ]
  },
  {
   "cell_type": "code",
   "execution_count": 11,
   "metadata": {},
   "outputs": [
    {
     "data": {
      "text/plain": [
       "'volvo'"
      ]
     },
     "execution_count": 11,
     "metadata": {},
     "output_type": "execute_result"
    }
   ],
   "source": [
    "s3.iloc[0]"
   ]
  },
  {
   "cell_type": "markdown",
   "metadata": {},
   "source": [
    "* Or multiple:"
   ]
  },
  {
   "cell_type": "code",
   "execution_count": 12,
   "metadata": {},
   "outputs": [
    {
     "data": {
      "text/plain": [
       "safest      volvo\n",
       "safe      hyundai\n",
       "Name: Car Brand Safety Ratings, dtype: object"
      ]
     },
     "execution_count": 12,
     "metadata": {},
     "output_type": "execute_result"
    }
   ],
   "source": [
    "s3.iloc[[0,2]]"
   ]
  },
  {
   "cell_type": "markdown",
   "metadata": {},
   "source": [
    "* Or get the last one:"
   ]
  },
  {
   "cell_type": "code",
   "execution_count": 13,
   "metadata": {},
   "outputs": [
    {
     "data": {
      "text/plain": [
       "'hyundai'"
      ]
     },
     "execution_count": 13,
     "metadata": {},
     "output_type": "execute_result"
    }
   ],
   "source": [
    "s3[-1]"
   ]
  },
  {
   "cell_type": "markdown",
   "metadata": {},
   "source": [
    "* you can also choose a range of items"
   ]
  },
  {
   "cell_type": "code",
   "execution_count": 14,
   "metadata": {},
   "outputs": [
    {
     "data": {
      "text/plain": [
       "safest            volvo\n",
       "safer     mercedes-benz\n",
       "safe            hyundai\n",
       "Name: Car Brand Safety Ratings, dtype: object"
      ]
     },
     "execution_count": 14,
     "metadata": {},
     "output_type": "execute_result"
    }
   ],
   "source": [
    "s3[\"safest\":\"safe\"]"
   ]
  },
  {
   "cell_type": "markdown",
   "metadata": {},
   "source": [
    "## Boolean Series - Pandas"
   ]
  },
  {
   "cell_type": "markdown",
   "metadata": {},
   "source": [
    "* Create a series that contains numbers in it"
   ]
  },
  {
   "cell_type": "code",
   "execution_count": 15,
   "metadata": {},
   "outputs": [],
   "source": [
    "XC_60_base=pd.Series({\"XC-60 Momentum\": 40000,\n",
    "                    \"XC-60 R-design\": 50000,\n",
    "                    \"XC-60 Inscription\": 60000\n",
    "                   },\n",
    "                  name=\"Volvo XC-60 2021 prices\")"
   ]
  },
  {
   "cell_type": "code",
   "execution_count": 16,
   "metadata": {},
   "outputs": [
    {
     "data": {
      "text/plain": [
       "XC-60 Momentum       40000\n",
       "XC-60 R-design       50000\n",
       "XC-60 Inscription    60000\n",
       "Name: Volvo XC-60 2021 prices, dtype: int64"
      ]
     },
     "execution_count": 16,
     "metadata": {},
     "output_type": "execute_result"
    }
   ],
   "source": [
    "XC_60_base"
   ]
  },
  {
   "cell_type": "markdown",
   "metadata": {},
   "source": [
    "* Let's say that the pro versions of each trim costs 4000 more:"
   ]
  },
  {
   "cell_type": "code",
   "execution_count": 17,
   "metadata": {},
   "outputs": [],
   "source": [
    "XC_60_PRO=XC_60_base+4000"
   ]
  },
  {
   "cell_type": "code",
   "execution_count": 18,
   "metadata": {},
   "outputs": [
    {
     "data": {
      "text/plain": [
       "XC-60 Momentum       44000\n",
       "XC-60 R-design       54000\n",
       "XC-60 Inscription    64000\n",
       "Name: Volvo XC-60 2021 prices, dtype: int64"
      ]
     },
     "execution_count": 18,
     "metadata": {},
     "output_type": "execute_result"
    }
   ],
   "source": [
    "XC_60_PRO"
   ]
  },
  {
   "cell_type": "markdown",
   "metadata": {},
   "source": [
    "* We can also use *, /, - and even ><= (if we want true-false to be printed out)"
   ]
  },
  {
   "cell_type": "code",
   "execution_count": 19,
   "metadata": {},
   "outputs": [
    {
     "data": {
      "text/plain": [
       "XC-60 Momentum       False\n",
       "XC-60 R-design       False\n",
       "XC-60 Inscription     True\n",
       "Name: Volvo XC-60 2021 prices, dtype: bool"
      ]
     },
     "execution_count": 19,
     "metadata": {},
     "output_type": "execute_result"
    }
   ],
   "source": [
    "XC_60_base>50000"
   ]
  },
  {
   "cell_type": "code",
   "execution_count": 20,
   "metadata": {},
   "outputs": [
    {
     "data": {
      "text/plain": [
       "XC-60 Momentum       40000\n",
       "XC-60 R-design       50000\n",
       "XC-60 Inscription    60000\n",
       "Name: Volvo XC-60 2021 prices, dtype: int64"
      ]
     },
     "execution_count": 20,
     "metadata": {},
     "output_type": "execute_result"
    }
   ],
   "source": [
    "XC_60_base"
   ]
  },
  {
   "cell_type": "markdown",
   "metadata": {},
   "source": [
    "* As you can see, this statement's new value doesn't get stored, so if we want to keep it we need to assign it to a new variable."
   ]
  },
  {
   "cell_type": "markdown",
   "metadata": {},
   "source": [
    "* What about selecting data? Let's see:\n",
    "    * You can select data besed on an arguement"
   ]
  },
  {
   "cell_type": "code",
   "execution_count": 21,
   "metadata": {},
   "outputs": [
    {
     "data": {
      "text/plain": [
       "XC-60 R-design       50000\n",
       "XC-60 Inscription    60000\n",
       "Name: Volvo XC-60 2021 prices, dtype: int64"
      ]
     },
     "execution_count": 21,
     "metadata": {},
     "output_type": "execute_result"
    }
   ],
   "source": [
    "XC_60_base[XC_60_base>=50000]"
   ]
  },
  {
   "cell_type": "markdown",
   "metadata": {},
   "source": [
    "* Let's get the mean value:\n",
    "    * Mean value is just all the values being added together, and then that number getting divided by the number of the numbers if that makes sense"
   ]
  },
  {
   "cell_type": "code",
   "execution_count": 22,
   "metadata": {},
   "outputs": [
    {
     "data": {
      "text/plain": [
       "50000.0"
      ]
     },
     "execution_count": 22,
     "metadata": {},
     "output_type": "execute_result"
    }
   ],
   "source": [
    "XC_60_base.mean()"
   ]
  },
  {
   "cell_type": "markdown",
   "metadata": {},
   "source": [
    "* Mean can be used in data selection too:"
   ]
  },
  {
   "cell_type": "code",
   "execution_count": 23,
   "metadata": {},
   "outputs": [
    {
     "data": {
      "text/plain": [
       "XC-60 R-design       54000\n",
       "XC-60 Inscription    64000\n",
       "Name: Volvo XC-60 2021 prices, dtype: int64"
      ]
     },
     "execution_count": 23,
     "metadata": {},
     "output_type": "execute_result"
    }
   ],
   "source": [
    "XC_60_PRO[XC_60_PRO>XC_60_base.mean()]"
   ]
  },
  {
   "cell_type": "markdown",
   "metadata": {},
   "source": [
    "* using .std(), we can calculate the standard deviation which is just the square root of varitation(which is calculated similarly to mean but the values are on the 2nd power).\n",
    "* Using standard deviation, we can easily say which values are 'normal', which are 'extra-large' or 'extra-small'.\n",
    "* If the data is further away from the mean,the deviation is higher meaning more 'spread out' data.\n",
    "\n",
    "TAKE A MOMENT TO READ THAT AGAIN SINCE ITS VERY IMPORTANT FO YOU TO UNDERSTAND THIS "
   ]
  },
  {
   "cell_type": "markdown",
   "metadata": {},
   "source": [
    "### LOGICAL OPERATORS"
   ]
  },
  {
   "cell_type": "markdown",
   "metadata": {},
   "source": [
    "* In python, logical operators, are the keywords AND, OR, NOT. When using pandas, it is prefered to use:\n",
    "    * ~ not\n",
    "    * | or\n",
    "    * & and"
   ]
  },
  {
   "cell_type": "code",
   "execution_count": 24,
   "metadata": {},
   "outputs": [
    {
     "data": {
      "text/plain": [
       "XC-60 Momentum    40000\n",
       "XC-60 R-design    50000\n",
       "Name: Volvo XC-60 2021 prices, dtype: int64"
      ]
     },
     "execution_count": 24,
     "metadata": {},
     "output_type": "execute_result"
    }
   ],
   "source": [
    "XC_60_base[((XC_60_base<=50000) & ~(XC_60_base>65000))]"
   ]
  },
  {
   "cell_type": "code",
   "execution_count": 25,
   "metadata": {},
   "outputs": [
    {
     "data": {
      "text/plain": [
       "XC-60 Momentum       10.596635\n",
       "XC-60 R-design       10.819778\n",
       "XC-60 Inscription    11.002100\n",
       "Name: Volvo XC-60 2021 prices, dtype: float64"
      ]
     },
     "execution_count": 25,
     "metadata": {},
     "output_type": "execute_result"
    }
   ],
   "source": [
    "np.log(XC_60_base)"
   ]
  },
  {
   "cell_type": "markdown",
   "metadata": {},
   "source": [
    "## Modifying data in series"
   ]
  },
  {
   "cell_type": "markdown",
   "metadata": {},
   "source": [
    "* You ccan modify data by calling them using their index:"
   ]
  },
  {
   "cell_type": "code",
   "execution_count": 36,
   "metadata": {},
   "outputs": [],
   "source": [
    "s3[\"safe\"]=\"Subaru\""
   ]
  },
  {
   "cell_type": "markdown",
   "metadata": {},
   "source": [
    "* As you can see bellow, the value of \"safe\" has changed"
   ]
  },
  {
   "cell_type": "code",
   "execution_count": 37,
   "metadata": {},
   "outputs": [
    {
     "data": {
      "text/plain": [
       "safest          volvo\n",
       "safer     Rolls Royce\n",
       "safe           Subaru\n",
       "Name: Car Brand Safety Ratings, dtype: object"
      ]
     },
     "execution_count": 37,
     "metadata": {},
     "output_type": "execute_result"
    }
   ],
   "source": [
    "s3"
   ]
  },
  {
   "cell_type": "markdown",
   "metadata": {},
   "source": [
    "* Or using iloc which allows you to refer to it using an index number"
   ]
  },
  {
   "cell_type": "code",
   "execution_count": 38,
   "metadata": {},
   "outputs": [],
   "source": [
    "s3.iloc[1]=\"Rolls Royce\""
   ]
  },
  {
   "cell_type": "code",
   "execution_count": 39,
   "metadata": {},
   "outputs": [
    {
     "data": {
      "text/plain": [
       "safest          volvo\n",
       "safer     Rolls Royce\n",
       "safe           Subaru\n",
       "Name: Car Brand Safety Ratings, dtype: object"
      ]
     },
     "execution_count": 39,
     "metadata": {},
     "output_type": "execute_result"
    }
   ],
   "source": [
    "s3"
   ]
  },
  {
   "cell_type": "code",
   "execution_count": 54,
   "metadata": {},
   "outputs": [],
   "source": [
    "merc=pd.Series({\"C Class\": 50000,\n",
    "                    \"S Class\": 60000,\n",
    "                    \"E Class\": 65000,\n",
    "                    \"GLC Class\": 60000,\n",
    "                    \"GLB Class\": 50000\n",
    "                   },\n",
    "                  name=\"Mercedes catalogue prices\")\n",
    "\n"
   ]
  },
  {
   "cell_type": "markdown",
   "metadata": {},
   "source": [
    "* Or say that all values > 60000 go to 55000"
   ]
  },
  {
   "cell_type": "code",
   "execution_count": 55,
   "metadata": {},
   "outputs": [],
   "source": [
    "merc[merc>60000]=55000"
   ]
  },
  {
   "cell_type": "code",
   "execution_count": 56,
   "metadata": {},
   "outputs": [
    {
     "data": {
      "text/plain": [
       "C Class      50000\n",
       "S Class      60000\n",
       "E Class      55000\n",
       "GLC Class    60000\n",
       "GLB Class    50000\n",
       "Name: Mercedes catalogue prices, dtype: int64"
      ]
     },
     "execution_count": 56,
     "metadata": {},
     "output_type": "execute_result"
    }
   ],
   "source": [
    "merc"
   ]
  },
  {
   "cell_type": "code",
   "execution_count": null,
   "metadata": {},
   "outputs": [],
   "source": []
  }
 ],
 "metadata": {
  "kernelspec": {
   "display_name": "Python 3",
   "language": "python",
   "name": "python3"
  },
  "language_info": {
   "codemirror_mode": {
    "name": "ipython",
    "version": 3
   },
   "file_extension": ".py",
   "mimetype": "text/x-python",
   "name": "python",
   "nbconvert_exporter": "python",
   "pygments_lexer": "ipython3",
   "version": "3.8.6"
  }
 },
 "nbformat": 4,
 "nbformat_minor": 5
}
