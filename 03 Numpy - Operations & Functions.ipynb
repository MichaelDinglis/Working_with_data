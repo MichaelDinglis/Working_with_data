{
 "cells": [
  {
   "cell_type": "markdown",
   "metadata": {},
   "source": [
    "# Numpy Operations & Functions"
   ]
  },
  {
   "cell_type": "code",
   "execution_count": 120,
   "metadata": {},
   "outputs": [],
   "source": [
    "import numpy as np"
   ]
  },
  {
   "cell_type": "markdown",
   "metadata": {},
   "source": [
    "* By now, you should be familiar with creating a numpy array. Let me show you some useful operations"
   ]
  },
  {
   "cell_type": "code",
   "execution_count": 121,
   "metadata": {},
   "outputs": [
    {
     "name": "stdout",
     "output_type": "stream",
     "text": [
      "1st Array [10 20 30 40 50]\n",
      "2st Array [ 5 10 15 20 60]\n"
     ]
    }
   ],
   "source": [
    "arr1=np.array([10,20,30,40,50])\n",
    "arr2=np.array([5,10,15,20,60])\n",
    "print(\"1st Array\",arr1)\n",
    "print(\"2st Array\",arr2)"
   ]
  },
  {
   "cell_type": "markdown",
   "metadata": {},
   "source": [
    "* You can perform arithmetic operations with 2 arrays"
   ]
  },
  {
   "cell_type": "code",
   "execution_count": 122,
   "metadata": {},
   "outputs": [
    {
     "name": "stdout",
     "output_type": "stream",
     "text": [
      "1st and 2nd array invited [ 15  30  45  60 110]\n",
      "1st and 2nd array divided [2.         2.         2.         2.         0.83333333]\n"
     ]
    }
   ],
   "source": [
    "arr3=arr1+arr2\n",
    "arr4=arr1/arr2\n",
    "print(\"1st and 2nd array invited\",arr3)\n",
    "print(\"1st and 2nd array divided\",arr4)"
   ]
  },
  {
   "cell_type": "markdown",
   "metadata": {},
   "source": [
    "* If you add arrays with the same dimension but a different number of elements, you will get an error\n",
    "* Using the same method, you can perform operations on multi-dimentional arrays"
   ]
  },
  {
   "cell_type": "markdown",
   "metadata": {},
   "source": [
    "* You can also use operations with one number in an array:"
   ]
  },
  {
   "cell_type": "code",
   "execution_count": 123,
   "metadata": {},
   "outputs": [
    {
     "data": {
      "text/plain": [
       "array([ 50, 100, 150, 200, 250])"
      ]
     },
     "execution_count": 123,
     "metadata": {},
     "output_type": "execute_result"
    }
   ],
   "source": [
    "arr3=arr1*5\n",
    "arr3"
   ]
  },
  {
   "cell_type": "markdown",
   "metadata": {},
   "source": [
    "* Or use ** to find the square of the numbers\n",
    "* If you would like to use a higher power, use the pow() cuntion"
   ]
  },
  {
   "cell_type": "code",
   "execution_count": 124,
   "metadata": {},
   "outputs": [
    {
     "data": {
      "text/plain": [
       "array([   100000,   3200000,  24300000, 102400000, 312500000])"
      ]
     },
     "execution_count": 124,
     "metadata": {},
     "output_type": "execute_result"
    }
   ],
   "source": [
    "arr3=pow(arr1,5)\n",
    "arr3"
   ]
  },
  {
   "cell_type": "markdown",
   "metadata": {},
   "source": [
    "* Conditional Expressions:\n",
    "* Fills the array with True and False statements according to the expression"
   ]
  },
  {
   "cell_type": "code",
   "execution_count": 125,
   "metadata": {},
   "outputs": [
    {
     "data": {
      "text/plain": [
       "array([ True,  True,  True,  True, False])"
      ]
     },
     "execution_count": 125,
     "metadata": {},
     "output_type": "execute_result"
    }
   ],
   "source": [
    "arr4=arr1>=arr2\n",
    "arr4"
   ]
  },
  {
   "cell_type": "markdown",
   "metadata": {},
   "source": [
    "* import random library and use it to generate a random number:"
   ]
  },
  {
   "cell_type": "code",
   "execution_count": 126,
   "metadata": {},
   "outputs": [
    {
     "data": {
      "text/plain": [
       "array([4])"
      ]
     },
     "execution_count": 126,
     "metadata": {},
     "output_type": "execute_result"
    }
   ],
   "source": [
    "import random\n",
    "a1=np.array([random.randint(2,7)])\n",
    "a1"
   ]
  },
  {
   "cell_type": "markdown",
   "metadata": {},
   "source": [
    "* Use .min to find the lowest value in the array."
   ]
  },
  {
   "cell_type": "code",
   "execution_count": 127,
   "metadata": {},
   "outputs": [
    {
     "data": {
      "text/plain": [
       "10"
      ]
     },
     "execution_count": 127,
     "metadata": {},
     "output_type": "execute_result"
    }
   ],
   "source": [
    "arr1.min()"
   ]
  },
  {
   "cell_type": "markdown",
   "metadata": {},
   "source": [
    "* Use .sum() to sum the values of an axis or the whole matrix:"
   ]
  },
  {
   "cell_type": "code",
   "execution_count": 128,
   "metadata": {},
   "outputs": [
    {
     "data": {
      "text/plain": [
       "4"
      ]
     },
     "execution_count": 128,
     "metadata": {},
     "output_type": "execute_result"
    }
   ],
   "source": [
    "arr4.sum()\n",
    "arr4.sum(axis=0)"
   ]
  },
  {
   "cell_type": "markdown",
   "metadata": {},
   "source": [
    "* Use .max() to find the biggest number:"
   ]
  },
  {
   "cell_type": "code",
   "execution_count": 129,
   "metadata": {},
   "outputs": [
    {
     "data": {
      "text/plain": [
       "312500000"
      ]
     },
     "execution_count": 129,
     "metadata": {},
     "output_type": "execute_result"
    }
   ],
   "source": [
    "arr3.max()"
   ]
  },
  {
   "cell_type": "markdown",
   "metadata": {},
   "source": [
    "### Axis"
   ]
  },
  {
   "cell_type": "markdown",
   "metadata": {},
   "source": [
    "* Let's give an example to help you understand axis:\n",
    "    * In a 2-dimentional array, you have 2 axes.\n",
    "    * Axis 0 is vertical down the rows\n",
    "    * Axis 1 is horizontal from left to right across the columns"
   ]
  },
  {
   "cell_type": "markdown",
   "metadata": {},
   "source": [
    "* When using functions like .mean(), you can specify the axis to run on:"
   ]
  },
  {
   "cell_type": "code",
   "execution_count": 130,
   "metadata": {},
   "outputs": [
    {
     "data": {
      "text/plain": [
       "array([3., 6.])"
      ]
     },
     "execution_count": 130,
     "metadata": {},
     "output_type": "execute_result"
    }
   ],
   "source": [
    "axes=np.array([[1,2,3,4,5],\n",
    "              [6,7,8,9,0]])\n",
    "np.mean(axes,axis=1)"
   ]
  },
  {
   "cell_type": "code",
   "execution_count": 131,
   "metadata": {},
   "outputs": [
    {
     "data": {
      "text/plain": [
       "array([3.5, 4.5, 5.5, 6.5, 2.5])"
      ]
     },
     "execution_count": 131,
     "metadata": {},
     "output_type": "execute_result"
    }
   ],
   "source": [
    "np.mean(axes,axis=0)"
   ]
  },
  {
   "cell_type": "markdown",
   "metadata": {},
   "source": [
    "## Matrix Multiplication"
   ]
  },
  {
   "cell_type": "markdown",
   "metadata": {},
   "source": [
    "* Matrix Multiplication, is a binnary operation that gives out a matrix from 2 matrices\n",
    "\n",
    "Things that you should know:\n",
    "* Rows: Horisontal (->) \n",
    "* Columns: Vertical (|)\n",
    "* <b>VERY IMPORTANT: The no. of colummns in the 1st matrix should be equal to the no. of rows of the 2nd one.</b>\n",
    "    * If this isn't true for the matrices that you are using, try doina B\\*A, as it actually matters for them to be equal.\n",
    "* The columns and rows of a matrix can be represented like this: [rows\\*columns]\n",
    "* The matrix that comes out, is named <b>matrix product</b>\n",
    "* The <u>matrix product</u> has the number of <i>rows</i> of the <i>first</i> and the  no of the <i>columns</i> of the <i>second</i> one.\n",
    "* Let's call the 1st one <b>A</b> and the second one <b>B</b> - the matrix product is <b>AB</b>"
   ]
  },
  {
   "cell_type": "raw",
   "metadata": {},
   "source": [
    "Let's say that A=[a b c] and b=[d e  \n",
    "                                f g  \n",
    "                                h i]"
   ]
  },
  {
   "cell_type": "markdown",
   "metadata": {},
   "source": [
    "<u>A: 1 row, 3 columns  \n",
    "B: 3 rows, 2 columns</u>\n",
    "AB: 1(A-rows) \\* 2 (B-columns) -> 1 row, 2 columns\n",
    "\n",
    "* For the multiplication, we multiply the numbers of the 1st matrix with each nummber from the second one. Don't be scared by the formula, just try to understand it.\n",
    "\n",
    "* Since we are multiplying the 1st columns with the 1 st row, the number that will be coming out will be put to column 1 and row 1 of AB"
   ]
  },
  {
   "cell_type": "raw",
   "metadata": {},
   "source": [
    "a1=(a*d)+(b*f)+(c*h)=ad+b+ch\n",
    "a2=(a*e)+(b*g)+(c*i)=ae+bg+ci\n",
    "\n",
    "\n",
    "AB=[a1,a2]\n",
    "\n",
    "if we tried multiplying B*A, we wouldn't be able to do it, as the number of rows of B, isn't the same as the number of columns of A making it impossible to multiply"
   ]
  },
  {
   "cell_type": "markdown",
   "metadata": {},
   "source": [
    "What about multiplying multi-dimentional matrices? <b>Let's have a look at an example</b>"
   ]
  },
  {
   "cell_type": "raw",
   "metadata": {},
   "source": [
    "A=[a b    B=[g h i\n",
    "   c d       j k l]\n",
    "   e f]     \n",
    "   \n",
    "\n",
    "A: 3 rows, 2 columns [3*2]\n",
    "B: 2 rows, 3columns [2*3]"
   ]
  },
  {
   "cell_type": "markdown",
   "metadata": {},
   "source": [
    "A*B= [3\\*2]\\*[2\\*3] -> The columns of A are the same no. with the rows of B, so they can be multiplied.\n",
    "\n",
    "AB is going to be [Arows\\*Bcolumns], so [3\\*3]"
   ]
  },
  {
   "cell_type": "raw",
   "metadata": {},
   "source": [
    "a1=ag+bj\n",
    "a2=ah+bk\n",
    "a3=ai+bl\n",
    "b1=cg+dj\n",
    "b2=ch+dk\n",
    "b3=ci+dl\n",
    "c1=eg+fj\n",
    "c2=eh+fk\n",
    "c3=ei+fl\n",
    "\n",
    "\n",
    "AB=[a1 a2 a3\n",
    "    b1 b2 b3\n",
    "    c1 c2 c3]\n",
    "    \n",
    "I hope that by now you get the pattern :)"
   ]
  },
  {
   "cell_type": "markdown",
   "metadata": {},
   "source": [
    "* Back to numpy, you can get the miltiplication of twomatrices by using the dot function - the same rules apply:"
   ]
  },
  {
   "cell_type": "code",
   "execution_count": 132,
   "metadata": {},
   "outputs": [],
   "source": [
    "A=np.array([[1,2,3,4,5],\n",
    "           [1,2,3,4,5]])\n",
    "B=np.array([[1,2,3],\n",
    "            [6,5,4],\n",
    "            [4,2,6],\n",
    "            [9,6,7],\n",
    "            [4,9,1]])"
   ]
  },
  {
   "cell_type": "code",
   "execution_count": 133,
   "metadata": {},
   "outputs": [
    {
     "data": {
      "text/plain": [
       "array([[81, 87, 62],\n",
       "       [81, 87, 62]])"
      ]
     },
     "execution_count": 133,
     "metadata": {},
     "output_type": "execute_result"
    }
   ],
   "source": [
    "AB=A.dot(B)\n",
    "AB"
   ]
  },
  {
   "cell_type": "markdown",
   "metadata": {},
   "source": [
    "* You can also use the @ symbol: "
   ]
  },
  {
   "cell_type": "code",
   "execution_count": 134,
   "metadata": {},
   "outputs": [
    {
     "data": {
      "text/plain": [
       "array([[81, 87, 62],\n",
       "       [81, 87, 62]])"
      ]
     },
     "execution_count": 134,
     "metadata": {},
     "output_type": "execute_result"
    }
   ],
   "source": [
    "AB2=A@B\n",
    "AB2"
   ]
  },
  {
   "cell_type": "markdown",
   "metadata": {},
   "source": [
    "## Other functions"
   ]
  },
  {
   "cell_type": "markdown",
   "metadata": {},
   "source": [
    "* There are arithmetic operations avalable in functions, like <b>/add</b>, <b>.subtract</b> <b>.multiply</b> and <b>.divide</b>"
   ]
  },
  {
   "cell_type": "code",
   "execution_count": 135,
   "metadata": {},
   "outputs": [
    {
     "data": {
      "text/plain": [
       "array([[ 1,  2],\n",
       "       [ 3,  4],\n",
       "       [ 5,  6],\n",
       "       [ 7,  8],\n",
       "       [ 9, 10]])"
      ]
     },
     "execution_count": 135,
     "metadata": {},
     "output_type": "execute_result"
    }
   ],
   "source": [
    "a=np.array([1,2,3,4,5,6,7,8,9,10])\n",
    "a=a.reshape(5,2)\n",
    "a"
   ]
  },
  {
   "cell_type": "code",
   "execution_count": 136,
   "metadata": {},
   "outputs": [],
   "source": [
    "a1=np.array([4,6])"
   ]
  },
  {
   "cell_type": "markdown",
   "metadata": {},
   "source": [
    "* Adding a 1-dimentional array to a 2-dimentional one. - .add(arr1,arr2)"
   ]
  },
  {
   "cell_type": "code",
   "execution_count": 137,
   "metadata": {},
   "outputs": [],
   "source": [
    "a2=np.add(a,a1)"
   ]
  },
  {
   "cell_type": "code",
   "execution_count": 138,
   "metadata": {},
   "outputs": [
    {
     "data": {
      "text/plain": [
       "array([[ 5,  8],\n",
       "       [ 7, 10],\n",
       "       [ 9, 12],\n",
       "       [11, 14],\n",
       "       [13, 16]])"
      ]
     },
     "execution_count": 138,
     "metadata": {},
     "output_type": "execute_result"
    }
   ],
   "source": [
    "a2"
   ]
  },
  {
   "cell_type": "markdown",
   "metadata": {},
   "source": [
    "* <b>_like,</b>"
   ]
  },
  {
   "cell_type": "markdown",
   "metadata": {},
   "source": [
    "We learnet that we can create an array filled with zeros or ones. Using <b>_like</b>, we can create that array, in theshape ofan existing array:"
   ]
  },
  {
   "cell_type": "code",
   "execution_count": 139,
   "metadata": {},
   "outputs": [
    {
     "data": {
      "text/plain": [
       "array([[1, 1],\n",
       "       [1, 1],\n",
       "       [1, 1],\n",
       "       [1, 1],\n",
       "       [1, 1]])"
      ]
     },
     "execution_count": 139,
     "metadata": {},
     "output_type": "execute_result"
    }
   ],
   "source": [
    "a1=np.ones_like(a2)\n",
    "a1"
   ]
  },
  {
   "cell_type": "markdown",
   "metadata": {},
   "source": [
    "*or <b>full_like(arr,number)</b> to fill it in that shape with the number that you type"
   ]
  },
  {
   "cell_type": "code",
   "execution_count": 140,
   "metadata": {},
   "outputs": [
    {
     "data": {
      "text/plain": [
       "array([[6, 6],\n",
       "       [6, 6],\n",
       "       [6, 6],\n",
       "       [6, 6],\n",
       "       [6, 6]])"
      ]
     },
     "execution_count": 140,
     "metadata": {},
     "output_type": "execute_result"
    }
   ],
   "source": [
    "a1=np.full_like(a2,6)\n",
    "a1"
   ]
  },
  {
   "cell_type": "markdown",
   "metadata": {},
   "source": [
    "* You can also use empty_like and zeros_like"
   ]
  },
  {
   "cell_type": "markdown",
   "metadata": {},
   "source": [
    "[Click Here](https://stackoverflow.com/questions/14415741/what-is-the-difference-between-numpys-array-and-asarray-functions) to learn about asarray() - there are some differences with array()"
   ]
  },
  {
   "cell_type": "markdown",
   "metadata": {},
   "source": [
    "* Use <b>.arange()</b> to generate numbers - .arange(start,stop,step)\n",
    "   * step = th gap between the numbers\n",
    "   * start - the number that you give is included\n",
    "   * stop: the number that you give is not included"
   ]
  },
  {
   "cell_type": "code",
   "execution_count": 141,
   "metadata": {},
   "outputs": [
    {
     "data": {
      "text/plain": [
       "array([[10, 11, 12, 13, 14, 15, 16, 17, 18, 19],\n",
       "       [20, 21, 22, 23, 24, 25, 26, 27, 28, 29],\n",
       "       [30, 31, 32, 33, 34, 35, 36, 37, 38, 39],\n",
       "       [40, 41, 42, 43, 44, 45, 46, 47, 48, 49]])"
      ]
     },
     "execution_count": 141,
     "metadata": {},
     "output_type": "execute_result"
    }
   ],
   "source": [
    "a1=np.arange(10,50,1)\n",
    "a1\n",
    "# and reshape it\n",
    "a1.reshape(4,10)"
   ]
  },
  {
   "cell_type": "markdown",
   "metadata": {},
   "source": [
    "* Use <b>np.linspace(start,stop,quantity_of_numbers)</b> to genetate numbers with random spaces between then - eg. you cen generate 6 numbers from numbers 1-3\n",
    "    * If you add <b>retstep=true</b>, the spacing between the numbers will be even."
   ]
  },
  {
   "cell_type": "code",
   "execution_count": 154,
   "metadata": {},
   "outputs": [
    {
     "data": {
      "text/plain": [
       "array([3.        , 3.33333333, 3.66666667, 4.        ])"
      ]
     },
     "execution_count": 154,
     "metadata": {},
     "output_type": "execute_result"
    }
   ],
   "source": [
    "a1=np.linspace(3,4,4)\n",
    "a1"
   ]
  },
  {
   "cell_type": "code",
   "execution_count": 150,
   "metadata": {},
   "outputs": [
    {
     "data": {
      "text/plain": [
       "(array([3.        , 3.33333333, 3.66666667, 4.        ]), 0.3333333333333333)"
      ]
     },
     "execution_count": 150,
     "metadata": {},
     "output_type": "execute_result"
    }
   ],
   "source": [
    "a2=np.linspace(3,4,4, retstep=True)\n",
    "a2"
   ]
  },
  {
   "cell_type": "markdown",
   "metadata": {},
   "source": [
    "* Get the shape of an array using .shape"
   ]
  },
  {
   "cell_type": "code",
   "execution_count": 152,
   "metadata": {},
   "outputs": [
    {
     "data": {
      "text/plain": [
       "(5,)"
      ]
     },
     "execution_count": 152,
     "metadata": {},
     "output_type": "execute_result"
    }
   ],
   "source": [
    "arr1.shape"
   ]
  },
  {
   "cell_type": "markdown",
   "metadata": {},
   "source": [
    "* Make the array one-dimention"
   ]
  },
  {
   "cell_type": "code",
   "execution_count": 157,
   "metadata": {},
   "outputs": [
    {
     "data": {
      "text/plain": [
       "array([1, 2, 3, 1, 2, 3])"
      ]
     },
     "execution_count": 157,
     "metadata": {},
     "output_type": "execute_result"
    }
   ],
   "source": [
    "arr2=np.array([[1,2,3],\n",
    "              [1,2,3]])\n",
    "arr2=arr2.flatten()\n",
    "arr2"
   ]
  },
  {
   "cell_type": "markdown",
   "metadata": {},
   "source": [
    "* Useful in ML, we can split each row into its own column - .vsplit(array,number_of_rows)"
   ]
  },
  {
   "cell_type": "code",
   "execution_count": 159,
   "metadata": {},
   "outputs": [
    {
     "data": {
      "text/plain": [
       "[array([[1, 2, 3]]), array([[1, 2, 3]])]"
      ]
     },
     "execution_count": 159,
     "metadata": {},
     "output_type": "execute_result"
    }
   ],
   "source": [
    "arr2=np.array([[1,2,3],\n",
    "              [1,2,3]])\n",
    "arr2=np.vsplit(arr2,2)\n",
    "arr2"
   ]
  },
  {
   "cell_type": "markdown",
   "metadata": {},
   "source": [
    "* Again useful in ML, splitting columns into separate arrays. - .hsplit(array,number_of_columns)"
   ]
  },
  {
   "cell_type": "code",
   "execution_count": 161,
   "metadata": {},
   "outputs": [
    {
     "data": {
      "text/plain": [
       "[array([[1],\n",
       "        [1]]),\n",
       " array([[2],\n",
       "        [2]]),\n",
       " array([[3],\n",
       "        [3]])]"
      ]
     },
     "execution_count": 161,
     "metadata": {},
     "output_type": "execute_result"
    }
   ],
   "source": [
    "arr2=np.array([[1,2,3],\n",
    "              [1,2,3]])\n",
    "arr2=np.hsplit(arr2,3)\n",
    "arr2"
   ]
  },
  {
   "cell_type": "code",
   "execution_count": null,
   "metadata": {},
   "outputs": [],
   "source": []
  }
 ],
 "metadata": {
  "kernelspec": {
   "display_name": "Python 3",
   "language": "python",
   "name": "python3"
  },
  "language_info": {
   "codemirror_mode": {
    "name": "ipython",
    "version": 3
   },
   "file_extension": ".py",
   "mimetype": "text/x-python",
   "name": "python",
   "nbconvert_exporter": "python",
   "pygments_lexer": "ipython3",
   "version": "3.8.6"
  }
 },
 "nbformat": 4,
 "nbformat_minor": 4
}
