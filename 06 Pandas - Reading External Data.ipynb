{
 "cells": [
  {
   "cell_type": "markdown",
   "id": "computational-guatemala",
   "metadata": {},
   "source": [
    "# Reading external data & Plotting "
   ]
  },
  {
   "cell_type": "code",
   "execution_count": 165,
   "id": "painful-tulsa",
   "metadata": {},
   "outputs": [],
   "source": [
    "import pandas as pd\n",
    "import numpy as np\n",
    "from datetime import datetime as dt"
   ]
  },
  {
   "cell_type": "markdown",
   "id": "spoken-joseph",
   "metadata": {},
   "source": [
    "* Pandas can read and store data from CVS, JSON, XML and EXCEL files.\n",
    "* Today we will be working with a CSV file - the same rules apply for the other formats.\n",
    "* CSV = Coma-Separated Values\n",
    "* read_csv, read_json, read_xml, read_excel\n",
    "* By default, pandas set the first row of the file as the geader of the columns.\n",
    "\n",
    "* Let's create a DatFrame using the data from the CSV file"
   ]
  },
  {
   "cell_type": "code",
   "execution_count": 166,
   "id": "considered-slovenia",
   "metadata": {},
   "outputs": [
    {
     "data": {
      "text/html": [
       "<div>\n",
       "<style scoped>\n",
       "    .dataframe tbody tr th:only-of-type {\n",
       "        vertical-align: middle;\n",
       "    }\n",
       "\n",
       "    .dataframe tbody tr th {\n",
       "        vertical-align: top;\n",
       "    }\n",
       "\n",
       "    .dataframe thead th {\n",
       "        text-align: right;\n",
       "    }\n",
       "</style>\n",
       "<table border=\"1\" class=\"dataframe\">\n",
       "  <thead>\n",
       "    <tr style=\"text-align: right;\">\n",
       "      <th></th>\n",
       "      <th>name</th>\n",
       "      <th>lastName</th>\n",
       "      <th>id</th>\n",
       "    </tr>\n",
       "  </thead>\n",
       "  <tbody>\n",
       "    <tr>\n",
       "      <th>0</th>\n",
       "      <td>name</td>\n",
       "      <td>surname</td>\n",
       "      <td>1</td>\n",
       "    </tr>\n",
       "    <tr>\n",
       "      <th>1</th>\n",
       "      <td>Michael</td>\n",
       "      <td>Mike</td>\n",
       "      <td>2</td>\n",
       "    </tr>\n",
       "    <tr>\n",
       "      <th>2</th>\n",
       "      <td>Nicolas</td>\n",
       "      <td>Antreou</td>\n",
       "      <td>3</td>\n",
       "    </tr>\n",
       "    <tr>\n",
       "      <th>3</th>\n",
       "      <td>Prokopis</td>\n",
       "      <td>Nikolaou</td>\n",
       "      <td>4</td>\n",
       "    </tr>\n",
       "    <tr>\n",
       "      <th>4</th>\n",
       "      <td>Nicolete</td>\n",
       "      <td>Prokopiou</td>\n",
       "      <td>5</td>\n",
       "    </tr>\n",
       "    <tr>\n",
       "      <th>5</th>\n",
       "      <td>Eleni</td>\n",
       "      <td>Orphanide</td>\n",
       "      <td>6</td>\n",
       "    </tr>\n",
       "  </tbody>\n",
       "</table>\n",
       "</div>"
      ],
      "text/plain": [
       "       name   lastName  id\n",
       "0      name    surname   1\n",
       "1   Michael       Mike   2\n",
       "2   Nicolas    Antreou   3\n",
       "3  Prokopis   Nikolaou   4\n",
       "4  Nicolete  Prokopiou   5\n",
       "5     Eleni  Orphanide   6"
      ]
     },
     "execution_count": 166,
     "metadata": {},
     "output_type": "execute_result"
    }
   ],
   "source": [
    "users=pd.read_csv('users.csv')\n",
    "users"
   ]
  },
  {
   "cell_type": "markdown",
   "id": "empty-values",
   "metadata": {},
   "source": [
    "* If we don't want the 1st row to be the header, we say:"
   ]
  },
  {
   "cell_type": "code",
   "execution_count": 167,
   "id": "hourly-elder",
   "metadata": {},
   "outputs": [],
   "source": [
    "users=pd.read_csv('users.csv',header=None)"
   ]
  },
  {
   "cell_type": "markdown",
   "id": "quick-senator",
   "metadata": {},
   "source": [
    "* Then, we can use <b>.columns=[ ]</b> to set the column headers"
   ]
  },
  {
   "cell_type": "code",
   "execution_count": 168,
   "id": "ranking-announcement",
   "metadata": {},
   "outputs": [],
   "source": [
    "users.columns=['name','lastName','id']"
   ]
  },
  {
   "cell_type": "code",
   "execution_count": 169,
   "id": "devoted-enough",
   "metadata": {},
   "outputs": [
    {
     "data": {
      "text/plain": [
       "name        object\n",
       "lastName    object\n",
       "id           int64\n",
       "dtype: object"
      ]
     },
     "execution_count": 169,
     "metadata": {},
     "output_type": "execute_result"
    }
   ],
   "source": [
    "users=pd.read_csv('users.csv')\n",
    "users.dtypes"
   ]
  },
  {
   "cell_type": "markdown",
   "id": "false-percentage",
   "metadata": {},
   "source": [
    "* Get the shape of the csv "
   ]
  },
  {
   "cell_type": "code",
   "execution_count": 170,
   "id": "upper-assist",
   "metadata": {},
   "outputs": [
    {
     "data": {
      "text/plain": [
       "(6, 3)"
      ]
     },
     "execution_count": 170,
     "metadata": {},
     "output_type": "execute_result"
    }
   ],
   "source": [
    "users.shape"
   ]
  },
  {
   "cell_type": "markdown",
   "id": "clear-single",
   "metadata": {},
   "source": [
    "* Get the row that you write in the ( )"
   ]
  },
  {
   "cell_type": "code",
   "execution_count": 171,
   "id": "fifteen-candy",
   "metadata": {},
   "outputs": [
    {
     "data": {
      "text/html": [
       "<div>\n",
       "<style scoped>\n",
       "    .dataframe tbody tr th:only-of-type {\n",
       "        vertical-align: middle;\n",
       "    }\n",
       "\n",
       "    .dataframe tbody tr th {\n",
       "        vertical-align: top;\n",
       "    }\n",
       "\n",
       "    .dataframe thead th {\n",
       "        text-align: right;\n",
       "    }\n",
       "</style>\n",
       "<table border=\"1\" class=\"dataframe\">\n",
       "  <thead>\n",
       "    <tr style=\"text-align: right;\">\n",
       "      <th></th>\n",
       "      <th>name</th>\n",
       "      <th>lastName</th>\n",
       "      <th>id</th>\n",
       "    </tr>\n",
       "  </thead>\n",
       "  <tbody>\n",
       "    <tr>\n",
       "      <th>5</th>\n",
       "      <td>Eleni</td>\n",
       "      <td>Orphanide</td>\n",
       "      <td>6</td>\n",
       "    </tr>\n",
       "  </tbody>\n",
       "</table>\n",
       "</div>"
      ],
      "text/plain": [
       "    name   lastName  id\n",
       "5  Eleni  Orphanide   6"
      ]
     },
     "execution_count": 171,
     "metadata": {},
     "output_type": "execute_result"
    }
   ],
   "source": [
    "users.tail(1)"
   ]
  },
  {
   "cell_type": "markdown",
   "id": "blessed-domain",
   "metadata": {},
   "source": [
    "* Or get the row up to the number in the ( )"
   ]
  },
  {
   "cell_type": "code",
   "execution_count": 172,
   "id": "photographic-percentage",
   "metadata": {},
   "outputs": [
    {
     "data": {
      "text/html": [
       "<div>\n",
       "<style scoped>\n",
       "    .dataframe tbody tr th:only-of-type {\n",
       "        vertical-align: middle;\n",
       "    }\n",
       "\n",
       "    .dataframe tbody tr th {\n",
       "        vertical-align: top;\n",
       "    }\n",
       "\n",
       "    .dataframe thead th {\n",
       "        text-align: right;\n",
       "    }\n",
       "</style>\n",
       "<table border=\"1\" class=\"dataframe\">\n",
       "  <thead>\n",
       "    <tr style=\"text-align: right;\">\n",
       "      <th></th>\n",
       "      <th>name</th>\n",
       "      <th>lastName</th>\n",
       "      <th>id</th>\n",
       "    </tr>\n",
       "  </thead>\n",
       "  <tbody>\n",
       "    <tr>\n",
       "      <th>0</th>\n",
       "      <td>name</td>\n",
       "      <td>surname</td>\n",
       "      <td>1</td>\n",
       "    </tr>\n",
       "    <tr>\n",
       "      <th>1</th>\n",
       "      <td>Michael</td>\n",
       "      <td>Mike</td>\n",
       "      <td>2</td>\n",
       "    </tr>\n",
       "  </tbody>\n",
       "</table>\n",
       "</div>"
      ],
      "text/plain": [
       "      name lastName  id\n",
       "0     name  surname   1\n",
       "1  Michael     Mike   2"
      ]
     },
     "execution_count": 172,
     "metadata": {},
     "output_type": "execute_result"
    }
   ],
   "source": [
    "users.head(2)"
   ]
  },
  {
   "cell_type": "markdown",
   "id": "broad-afghanistan",
   "metadata": {},
   "source": [
    "* Write new column to the file:\n",
    "  * First, create the column in the DataFrame\n",
    "  * Then write it tho the CSV file using <b>to_csv</b> and set it as index using <b>,index=True/False</b> depending on what you want to do"
   ]
  },
  {
   "cell_type": "code",
   "execution_count": 173,
   "id": "romance-intervention",
   "metadata": {},
   "outputs": [
    {
     "data": {
      "text/html": [
       "<div>\n",
       "<style scoped>\n",
       "    .dataframe tbody tr th:only-of-type {\n",
       "        vertical-align: middle;\n",
       "    }\n",
       "\n",
       "    .dataframe tbody tr th {\n",
       "        vertical-align: top;\n",
       "    }\n",
       "\n",
       "    .dataframe thead th {\n",
       "        text-align: right;\n",
       "    }\n",
       "</style>\n",
       "<table border=\"1\" class=\"dataframe\">\n",
       "  <thead>\n",
       "    <tr style=\"text-align: right;\">\n",
       "      <th></th>\n",
       "      <th>name</th>\n",
       "      <th>lastName</th>\n",
       "      <th>id</th>\n",
       "      <th>dateWritten</th>\n",
       "    </tr>\n",
       "  </thead>\n",
       "  <tbody>\n",
       "    <tr>\n",
       "      <th>0</th>\n",
       "      <td>name</td>\n",
       "      <td>surname</td>\n",
       "      <td>1</td>\n",
       "      <td></td>\n",
       "    </tr>\n",
       "    <tr>\n",
       "      <th>1</th>\n",
       "      <td>Michael</td>\n",
       "      <td>Mike</td>\n",
       "      <td>2</td>\n",
       "      <td></td>\n",
       "    </tr>\n",
       "    <tr>\n",
       "      <th>2</th>\n",
       "      <td>Nicolas</td>\n",
       "      <td>Antreou</td>\n",
       "      <td>3</td>\n",
       "      <td></td>\n",
       "    </tr>\n",
       "    <tr>\n",
       "      <th>3</th>\n",
       "      <td>Prokopis</td>\n",
       "      <td>Nikolaou</td>\n",
       "      <td>4</td>\n",
       "      <td></td>\n",
       "    </tr>\n",
       "    <tr>\n",
       "      <th>4</th>\n",
       "      <td>Nicolete</td>\n",
       "      <td>Prokopiou</td>\n",
       "      <td>5</td>\n",
       "      <td></td>\n",
       "    </tr>\n",
       "    <tr>\n",
       "      <th>5</th>\n",
       "      <td>Eleni</td>\n",
       "      <td>Orphanide</td>\n",
       "      <td>6</td>\n",
       "      <td></td>\n",
       "    </tr>\n",
       "  </tbody>\n",
       "</table>\n",
       "</div>"
      ],
      "text/plain": [
       "       name   lastName  id dateWritten\n",
       "0      name    surname   1            \n",
       "1   Michael       Mike   2            \n",
       "2   Nicolas    Antreou   3            \n",
       "3  Prokopis   Nikolaou   4            \n",
       "4  Nicolete  Prokopiou   5            \n",
       "5     Eleni  Orphanide   6            "
      ]
     },
     "execution_count": 173,
     "metadata": {},
     "output_type": "execute_result"
    }
   ],
   "source": [
    "users[\"dateWritten\"]=\"\"\n",
    "users.to_csv(\"users.csv\", index=False)\n",
    "users"
   ]
  },
  {
   "cell_type": "markdown",
   "id": "intermediate-surge",
   "metadata": {},
   "source": [
    "* Let's pass the date to all of the rows"
   ]
  },
  {
   "cell_type": "code",
   "execution_count": 174,
   "id": "palestinian-horizon",
   "metadata": {},
   "outputs": [],
   "source": [
    "users[\"dateWritten\"]=dt.today().strftime('%d-%m-%Y')\n",
    "users.to_csv('users.csv',index=False)"
   ]
  },
  {
   "cell_type": "code",
   "execution_count": null,
   "id": "bizarre-insider",
   "metadata": {},
   "outputs": [],
   "source": [
    "* There are many attributes to read_csv, which you can find [here](https://pandas.pydata.org/pandas-docs/stable/reference/api/pandas.read_csv.html)"
   ]
  },
  {
   "cell_type": "code",
   "execution_count": null,
   "id": "occupational-founder",
   "metadata": {},
   "outputs": [],
   "source": []
  },
  {
   "cell_type": "code",
   "execution_count": null,
   "id": "august-monthly",
   "metadata": {},
   "outputs": [],
   "source": []
  },
  {
   "cell_type": "code",
   "execution_count": null,
   "id": "impossible-processing",
   "metadata": {},
   "outputs": [],
   "source": []
  }
 ],
 "metadata": {
  "kernelspec": {
   "display_name": "Python 3",
   "language": "python",
   "name": "python3"
  },
  "language_info": {
   "codemirror_mode": {
    "name": "ipython",
    "version": 3
   },
   "file_extension": ".py",
   "mimetype": "text/x-python",
   "name": "python",
   "nbconvert_exporter": "python",
   "pygments_lexer": "ipython3",
   "version": "3.8.6"
  }
 },
 "nbformat": 4,
 "nbformat_minor": 5
}
